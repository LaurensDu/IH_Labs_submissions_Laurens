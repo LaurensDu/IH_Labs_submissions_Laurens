{
 "cells": [
  {
   "cell_type": "markdown",
   "metadata": {},
   "source": [
    "<img src=\"https://bit.ly/2VnXWr2\" width=\"100\" align=\"left\">"
   ]
  },
  {
   "cell_type": "markdown",
   "metadata": {},
   "source": [
    "# Rock, Paper & Scissors\n",
    "\n",
    "Let's play the famous game against our computer. You can check the rules [here](https://en.wikipedia.org/wiki/Rock%E2%80%93paper%E2%80%93scissors). \n",
    "\n",
    "## Task\n",
    "Create a program that imitates the playability of the well known game of rock, paper, scissors. Follow the guidelines provided.\n",
    "\n",
    "## Tools\n",
    "1. Loop: **for/while**\n",
    "2. Functions: **input(), print()...**\n",
    "3. Conditional statements: **if, elif, else**\n",
    "4. Definition of functions. Modular programming\n",
    "5. Import modules\n",
    "\n",
    "- **To solve this challenge, the use of functions is recommended.**\n",
    "- <b>Hint: You dont need necessarily to follow the instructions in this notebook to solve the tasks. simply just get the job done effeciently ;) \n",
    "\n",
    "#### 1. Import the choice function of the random module."
   ]
  },
  {
   "cell_type": "code",
   "execution_count": 274,
   "metadata": {},
   "outputs": [],
   "source": [
    "import random"
   ]
  },
  {
   "cell_type": "markdown",
   "metadata": {},
   "source": [
    "#### 2. Create a list that includes the 3 possible gesture options of the game: 'rock', 'paper' or 'scissors'. Store the list in a variable called `gestures`."
   ]
  },
  {
   "cell_type": "code",
   "execution_count": 275,
   "metadata": {},
   "outputs": [],
   "source": [
    "gestures = ['rock', 'paper', 'scissors']"
   ]
  },
  {
   "cell_type": "markdown",
   "metadata": {},
   "source": [
    "#### 3. Create a variable called `n_rounds` to store the maximum number of rounds to play in a game. \n",
    "Remember that the number of rounds must be odd: 1, 3, 5, ..."
   ]
  },
  {
   "cell_type": "code",
   "execution_count": 276,
   "metadata": {},
   "outputs": [],
   "source": [
    "n_rounds = 5\n",
    "n_rounds_checker = 0"
   ]
  },
  {
   "cell_type": "markdown",
   "metadata": {},
   "source": [
    "#### 4. Create a variable called `rounds_to_win` to store the number of rounds that a player must win to win the game.\n",
    "**Hint**: the value stored in `rounds_to_win` depends on the value of `n_rounds`. "
   ]
  },
  {
   "cell_type": "code",
   "execution_count": 277,
   "metadata": {},
   "outputs": [],
   "source": [
    "rounds_to_win = 3"
   ]
  },
  {
   "cell_type": "markdown",
   "metadata": {},
   "source": [
    "#### 5. Create two variables to store the number of rounds that the computer and the player have won. Call these variables `cpu_score` and `player_score`."
   ]
  },
  {
   "cell_type": "code",
   "execution_count": 278,
   "metadata": {},
   "outputs": [],
   "source": [
    "cpu_score = 0\n",
    "player_score = 0"
   ]
  },
  {
   "cell_type": "markdown",
   "metadata": {},
   "source": [
    "#### 6. Define a function that randomly returns one of the 3 gesture options.\n",
    "You will use this function to simulate the gesture choice of the computer. "
   ]
  },
  {
   "cell_type": "code",
   "execution_count": 279,
   "metadata": {},
   "outputs": [],
   "source": [
    "def cpu_gesture_generator():\n",
    "    \"\"\"This function simulates the gesture choice of the computer\"\"\"\n",
    "    global cpu_gesture\n",
    "    cpu_gesture = random.choice(gestures)\n",
    "    return cpu_gesture"
   ]
  },
  {
   "cell_type": "markdown",
   "metadata": {},
   "source": [
    "#### 7. Define a function that asks the player which is the gesture he or she wants to show: 'rock', 'paper' or 'scissors'.\n",
    "The player should only be allowed to choose one of the 3 gesture options. If the player's choice is not rock, paper or scissors, keep asking until it is."
   ]
  },
  {
   "cell_type": "code",
   "execution_count": 280,
   "metadata": {},
   "outputs": [],
   "source": [
    "def player_gesture_generator():\n",
    "    \"\"\"This function asks the player what gesture he or she wants to use.\"\"\"\n",
    "    Active = True\n",
    "    while Active is True:\n",
    "        global player_gesture\n",
    "        player_gesture = input(\"Please enter what gesture you want to show: \")\n",
    "        player_gesture = player_gesture.lower()\n",
    "        if player_gesture in gestures:\n",
    "            return player_gesture\n",
    "        else:\n",
    "            print(\"You didn't select one of the available gestures.\")\n",
    "            continue"
   ]
  },
  {
   "cell_type": "markdown",
   "metadata": {},
   "source": [
    "#### 8. Define a function that checks who won a round. \n",
    "The function should return 0 if there is a tie, 1 if the computer wins and 2 if the player wins."
   ]
  },
  {
   "cell_type": "code",
   "execution_count": 281,
   "metadata": {},
   "outputs": [],
   "source": [
    "def round_outcome(cpu_gesture, player_gesture):\n",
    "    \"\"\"This function checks whether the computer or the player won the round, or if it's a tie.\"\"\"\n",
    "    if cpu_gesture == player_gesture:\n",
    "        return 0 # tie\n",
    "    if cpu_gesture == gestures[0] and player_gesture == gestures[1]:\n",
    "        return 1 # rock against paper, cpu wins\n",
    "    elif cpu_gesture == gestures[0] and player_gesture == gestures[2]:\n",
    "        return 2 # rock against paper, player wins\n",
    "    if cpu_gesture == gestures[1] and player_gesture == gestures[2]:\n",
    "        return 2 # paper against scissors, player wins\n",
    "    elif cpu_gesture == gestures[1] and player_gesture == gestures[0]:\n",
    "        return 1 # paper against rock, cpu wins\n",
    "    if cpu_gesture == gestures[2] and player_gesture == gestures[0]:\n",
    "        return 2 # scissors against rock, player wins\n",
    "    elif cpu_gesture == gestures[2] and player_gesture == gestures[1]:\n",
    "        return 1 # scissors against paper, cpu wins\n",
    "    if player_gesture == gestures[0] and cpu_gesture == gestures[1]:\n",
    "        return 1 # rock against paper, cpu wins\n",
    "    elif player_gesture == gestures[0] and cpu_gesture == gestures[2] :\n",
    "        return 2 # rock against scissors, player wins\n",
    "    if player_gesture == gestures[1] and cpu_gesture == gestures[2]:\n",
    "        return 1 # paper against scissors, cpu wins\n",
    "    elif player_gesture == gestures[1] and cpu_gesture == gestures[0]:\n",
    "        return 2 # paper against rock, player wins\n",
    "    if player_gesture == gestures[2] and cpu_gesture == gestures[0]:\n",
    "        return 1 # scissors against rock, cpu wins\n",
    "    elif player_gesture == gestures[2] and cpu_gesture == gestures[1]:\n",
    "        return 2 # scissors against paper, player wins"
   ]
  },
  {
   "cell_type": "markdown",
   "metadata": {},
   "source": [
    "The logic here is:\n",
    "\n",
    "rock[0] wins over scissors[1]\n",
    "paper[2] wins over rock[0]\n",
    "scissors[1] win over paper[2]"
   ]
  },
  {
   "cell_type": "markdown",
   "metadata": {},
   "source": [
    "#### 9. Define a function that prints the choice of the computer, the choice of the player and a message that announces who won the current round. \n",
    "You should also use this function to update the variables that count the number of rounds that the computer and the player have won. The score of the winner increases by one point. If there is a tie, the score does not increase."
   ]
  },
  {
   "cell_type": "code",
   "execution_count": 282,
   "metadata": {},
   "outputs": [],
   "source": [
    "def choice_printer(result):\n",
    "    \"\"\"This function prints the choice of the computer, the choice of the player and a message who won the current round.\"\"\"\n",
    "    print(f\"The choice of the computer is: {cpu_gesture}.\")\n",
    "    print(f\"The choice of the player is: {player_gesture}.\")\n",
    "    if result == 0:\n",
    "        print(\"It's a tie.\")\n",
    "        print(f\"\\n\")\n",
    "        return 0\n",
    "    elif result == 1:\n",
    "        print(\"The computer wins this round.\")\n",
    "        print(f\"\\n\")\n",
    "        return 1\n",
    "    elif result == 2:\n",
    "        print(\"The player wins this round.\")\n",
    "        print(f\"\\n\")\n",
    "        return 2"
   ]
  },
  {
   "cell_type": "markdown",
   "metadata": {},
   "source": [
    "#### 10. Now it's time to code the execution of the game using the functions and variables you defined above. \n",
    "\n",
    "First, create a loop structure that repeats while no player reaches the minimum score necessary to win and the number of rounds is less than the maximum number of rounds to play in a game.  \n",
    "\n",
    "Inside the loop, use the functions and variables above to create the execution of a round: ask for the player's choice, generate the random choice of the computer, show the round results, update the scores, etc. "
   ]
  },
  {
   "cell_type": "code",
   "execution_count": null,
   "metadata": {},
   "outputs": [],
   "source": [
    "Active = True\n",
    "\n",
    "while Active:\n",
    "    cpu_choice = cpu_gesture_generator() # assigns the outcome of the cpu-gesture generator to a variable\n",
    "    player_choice = player_gesture_generator() # assigns the outcome of the player-gesture generator to a variable\n",
    "    result = round_outcome(cpu_choice, player_choice) # assigns the outcome of the round outcome to a variable\n",
    "    outcome_decider = choice_printer(result) # assigns the outcome of the choice printer to a variable\n",
    "    if outcome_decider == 0:\n",
    "        n_rounds_checker += 1\n",
    "    elif outcome_decider == 1:\n",
    "        cpu_score += 1\n",
    "        n_rounds_checker += 1\n",
    "    elif outcome_decider == 2:\n",
    "        player_score += 1\n",
    "        n_rounds_checker += 1\n",
    "    if n_rounds_checker == 5:\n",
    "        print(\"The game has ended.\")\n",
    "        Active = False\n",
    "    if cpu_score >= rounds_to_win:\n",
    "        print(f\"\\n\")\n",
    "        print(f\"The computer won the game with {cpu_score} wins!\")\n",
    "        Active = False\n",
    "    elif player_score >= rounds_to_win:\n",
    "        print(f\"\\n\")\n",
    "        print(f\"Congratulations, you won the game with {player_score} wins!\")\n",
    "        Active = False"
   ]
  },
  {
   "cell_type": "code",
   "execution_count": null,
   "metadata": {},
   "outputs": [],
   "source": [
    "# Code to see what values the variables have\n",
    "\n",
    "print(n_rounds_checker)\n",
    "print(cpu_score)\n",
    "print(player_score)"
   ]
  },
  {
   "cell_type": "code",
   "execution_count": null,
   "metadata": {},
   "outputs": [],
   "source": [
    "#### 11. Print the winner of the game based on who won more rounds.\n",
    "# see above."
   ]
  },
  {
   "cell_type": "markdown",
   "metadata": {},
   "source": [
    "# (Optional) Rock, Paper, Scissors, Lizard & Spock\n",
    "![](images/rpsls.jpg)\n",
    "\n",
    "In this challenge, you need to improve the previous game by adding two new options. To know more about the rules of the improved version of rock, paper, scissors, check this [link](http://www.samkass.com/theories/RPSSL.html). \n",
    "\n",
    "In addition, you will also need to improve how the game interacts with the player: the number of rounds to play, which must be an odd number, will be requested to the user until a valid number is entered. Define a new function to make that request.\n",
    "\n",
    "**Hint**: Try to reuse the code that you already coded in the previous challenge. If your code is efficient, this bonus will only consist of simple modifications to the original game."
   ]
  },
  {
   "cell_type": "code",
   "execution_count": null,
   "metadata": {},
   "outputs": [],
   "source": []
  }
 ],
 "metadata": {
  "kernelspec": {
   "display_name": "Python 3 (ipykernel)",
   "language": "python",
   "name": "python3"
  },
  "language_info": {
   "codemirror_mode": {
    "name": "ipython",
    "version": 3
   },
   "file_extension": ".py",
   "mimetype": "text/x-python",
   "name": "python",
   "nbconvert_exporter": "python",
   "pygments_lexer": "ipython3",
   "version": "3.9.13"
  },
  "toc": {
   "base_numbering": 1,
   "nav_menu": {},
   "number_sections": true,
   "sideBar": true,
   "skip_h1_title": false,
   "title_cell": "Table of Contents",
   "title_sidebar": "Contents",
   "toc_cell": false,
   "toc_position": {},
   "toc_section_display": true,
   "toc_window_display": false
  }
 },
 "nbformat": 4,
 "nbformat_minor": 2
}
