{
 "cells": [
  {
   "cell_type": "markdown",
   "id": "7b444224",
   "metadata": {},
   "source": [
    "# numpy exercises\n",
    "\n",
    "This is a collection of exercises that have been collected in the numpy mailing list, on stack overflow\n",
    "and in the numpy documentation. The goal of this collection is to offer a quick reference for both old\n",
    "and new users but also to provide a set of exercises for those who teach.\n",
    "\n",
    "\n",
    "If you find an error or think you've a better way to solve some of them, feel\n",
    "free to open an issue at <https://github.com/rougier/numpy-100>.\n",
    "File automatically generated. See the documentation to update questions/answers/hints programmatically."
   ]
  },
  {
   "cell_type": "code",
   "execution_count": 2,
   "id": "c5863ba2",
   "metadata": {},
   "outputs": [],
   "source": [
    "#### 1. Import the numpy package under the name `np` (★☆☆)\n",
    "# hint: import … as\n",
    "import numpy as np"
   ]
  },
  {
   "cell_type": "code",
   "execution_count": 3,
   "id": "8df48f8d",
   "metadata": {},
   "outputs": [
    {
     "name": "stdout",
     "output_type": "stream",
     "text": [
      "[0. 0. 0. 0. 0. 0. 0. 0. 0. 0.]\n"
     ]
    }
   ],
   "source": [
    "#### 2. Create a null vector of size 10 (★☆☆)\n",
    "# hint: np.zeros\n",
    "\n",
    "vector_a = np.zeros((10))\n",
    "print(vector_a)"
   ]
  },
  {
   "cell_type": "code",
   "execution_count": 24,
   "id": "7241cd33",
   "metadata": {},
   "outputs": [
    {
     "name": "stdout",
     "output_type": "stream",
     "text": [
      "[[0. 0. 0. 0. 1. 0. 0. 0. 0. 0.]]\n"
     ]
    }
   ],
   "source": [
    "#### 3. Create a null vector of size 10 but the fifth value which is 1 (★☆☆)\n",
    "# hint: array[4]\n",
    "\n",
    "vector_a[0, 4] = 1\n",
    "print(vector_a)"
   ]
  },
  {
   "cell_type": "code",
   "execution_count": 27,
   "id": "e508e382",
   "metadata": {},
   "outputs": [
    {
     "name": "stdout",
     "output_type": "stream",
     "text": [
      "[10 11 12 13 14 15 16 17 18 19 20 21 22 23 24 25 26 27 28 29 30 31 32 33\n",
      " 34 35 36 37 38 39 40 41 42 43 44 45 46 47 48 49]\n"
     ]
    }
   ],
   "source": [
    "#### 4. Create a vector with values ranging from 10 to 49 (★☆☆)\n",
    "# hint: arange\n",
    "\n",
    "vector_b = np.arange(10, 50)\n",
    "print(vector_b)"
   ]
  },
  {
   "cell_type": "code",
   "execution_count": 33,
   "id": "0bf0d4a9",
   "metadata": {},
   "outputs": [
    {
     "name": "stdout",
     "output_type": "stream",
     "text": [
      "[[0 1 2]\n",
      " [3 4 5]\n",
      " [6 7 8]]\n"
     ]
    }
   ],
   "source": [
    "#### 5. Create a 3x3 matrix with values ranging from 0 to 8 (★☆☆)\n",
    "# hint: reshape\n",
    "\n",
    "matrix_a = np.arange(0, 9).reshape((3, 3))\n",
    "print(matrix_a)"
   ]
  },
  {
   "cell_type": "code",
   "execution_count": 34,
   "id": "a2e863fd",
   "metadata": {},
   "outputs": [
    {
     "name": "stdout",
     "output_type": "stream",
     "text": [
      "(array([0, 1, 4], dtype=int64),)\n"
     ]
    }
   ],
   "source": [
    "#### 6. Find indices of non-zero elements from [1,2,0,0,4,0] (★☆☆)\n",
    "# hint: np.nonzero\n",
    "\n",
    "vector_c = [1,2,0,0,4,0]\n",
    "non_zero = np.nonzero(vector_c)\n",
    "print(non_zero)"
   ]
  },
  {
   "cell_type": "code",
   "execution_count": 38,
   "id": "c4349944",
   "metadata": {},
   "outputs": [
    {
     "name": "stdout",
     "output_type": "stream",
     "text": [
      "[[1. 0. 0.]\n",
      " [0. 1. 0.]\n",
      " [0. 0. 1.]]\n"
     ]
    }
   ],
   "source": [
    "#### 7. Create a 3x3 identity matrix (★☆☆)\n",
    "# hint: np.eye\n",
    "\n",
    "identity_matrix = np.eye(3)\n",
    "print(identity_matrix)"
   ]
  },
  {
   "cell_type": "code",
   "execution_count": 36,
   "id": "b10c7498",
   "metadata": {},
   "outputs": [
    {
     "name": "stdout",
     "output_type": "stream",
     "text": [
      "[[[0.06600409 0.54370835 0.45033048]\n",
      "  [0.48340214 0.55580969 0.08902109]\n",
      "  [0.96933652 0.55631523 0.94738405]]\n",
      "\n",
      " [[0.80737749 0.32229999 0.73462748]\n",
      "  [0.84188986 0.83341971 0.34540453]\n",
      "  [0.20128383 0.39794978 0.11513558]]\n",
      "\n",
      " [[0.84463205 0.65820297 0.11596696]\n",
      "  [0.80566147 0.58203428 0.95781657]\n",
      "  [0.31738105 0.21152842 0.2335294 ]]]\n"
     ]
    }
   ],
   "source": [
    "#### 8. Create a 3x3x3 array with random values (★☆☆)\n",
    "# hint: np.random.random\n",
    "\n",
    "matrix_b = np.random.random((3, 3, 3))\n",
    "print(matrix_b)"
   ]
  },
  {
   "cell_type": "code",
   "execution_count": 58,
   "id": "f3619638",
   "metadata": {},
   "outputs": [
    {
     "name": "stdout",
     "output_type": "stream",
     "text": [
      "[[0.47068443 0.60746799 0.8096041  0.42940065 0.83594134 0.15938753\n",
      "  0.14482959 0.16049042 0.48570475 0.46771597]\n",
      " [0.43097358 0.58423983 0.70507902 0.31091028 0.09756889 0.28815905\n",
      "  0.63973605 0.06174549 0.1593118  0.86074058]\n",
      " [0.36269766 0.07102412 0.33485886 0.59178006 0.38295407 0.77995931\n",
      "  0.41502357 0.58014304 0.81407124 0.92626555]\n",
      " [0.90553794 0.89805583 0.89238744 0.11965634 0.4578432  0.91673488\n",
      "  0.50368936 0.98891526 0.19860384 0.29972605]\n",
      " [0.49437603 0.18043406 0.49215115 0.90234771 0.82048425 0.56931078\n",
      "  0.83228232 0.43859371 0.09301511 0.81153324]\n",
      " [0.39024218 0.83668191 0.83347056 0.0599012  0.80801351 0.12700351\n",
      "  0.30922041 0.74252791 0.36234144 0.69920193]\n",
      " [0.69227054 0.81828018 0.26766744 0.60502514 0.94881377 0.31879953\n",
      "  0.324539   0.69954474 0.20556599 0.0124203 ]\n",
      " [0.88224216 0.86813179 0.32541237 0.35772098 0.68486538 0.73165552\n",
      "  0.10119079 0.14847049 0.25058078 0.61155084]\n",
      " [0.71062598 0.443735   0.10423704 0.11818276 0.53484704 0.30721772\n",
      "  0.10593728 0.35015274 0.77567138 0.25965332]\n",
      " [0.94792314 0.3900884  0.25071987 0.87492391 0.29767187 0.17153849\n",
      "  0.4666611  0.26316839 0.45004335 0.135682  ]]\n",
      "0.012420303338646965\n",
      "0.988915263157874\n"
     ]
    }
   ],
   "source": [
    "#### 9. Create a 10x10 array with random values and find the minimum and maximum values (★☆☆)\n",
    "# hint: min, max`\n",
    "\n",
    "matrix_c = np.random.random((10, 10))\n",
    "print(matrix_c)\n",
    "print(matrix_c.min())\n",
    "print(matrix_c.max())"
   ]
  },
  {
   "cell_type": "code",
   "execution_count": 60,
   "id": "ebdbc28a",
   "metadata": {},
   "outputs": [
    {
     "name": "stdout",
     "output_type": "stream",
     "text": [
      "[0.38274502 0.50191537 0.80933115 0.30708801 0.27203347 0.06542975\n",
      " 0.73332183 0.58784705 0.33242357 0.51917937 0.39978198 0.92464042\n",
      " 0.99183727 0.48966694 0.92059108 0.64603362 0.20388284 0.92326706\n",
      " 0.39942129 0.23759663 0.64541356 0.70993607 0.18157925 0.3826115\n",
      " 0.61179453 0.72724285 0.54255392 0.97001692 0.80626448 0.92466749]\n",
      "0.5716704765894682\n"
     ]
    }
   ],
   "source": [
    "#### 10. Create a random vector of size 30 and find the mean value (★☆☆)\n",
    "# hint: mean\n",
    "\n",
    "vector_c = np.random.random((30))\n",
    "print(vector_c)\n",
    "print(vector_c.mean())"
   ]
  },
  {
   "cell_type": "code",
   "execution_count": 6,
   "id": "d31dc5ee",
   "metadata": {},
   "outputs": [
    {
     "name": "stdout",
     "output_type": "stream",
     "text": [
      "[[0 0 0 0 0]\n",
      " [1 0 0 0 0]\n",
      " [0 2 0 0 0]\n",
      " [0 0 3 0 0]\n",
      " [0 0 0 4 0]]\n"
     ]
    }
   ],
   "source": [
    "#### 11. Create a 5x5 matrix with values 1,2,3,4 just below the diagonal (★☆☆)\n",
    "# hint: np.diag\n",
    "\n",
    "lst = [9, 0, 9, 2, 4], [4, 5, 1, 9, 0], [1, 0, 8, 3, 2], [1, 7, 8, 2, 0], [4, 8, 1, 9, 0]\n",
    "matrix_d = np.array(lst)\n",
    "\n",
    "diagonal = (np.diag([1, 2, 3, 4,], k=-1))\n",
    "\n",
    "print(diagonal)"
   ]
  },
  {
   "cell_type": "code",
   "execution_count": 7,
   "id": "8c5d669d",
   "metadata": {},
   "outputs": [
    {
     "name": "stdout",
     "output_type": "stream",
     "text": [
      "[[-1.23418856 -1.30801288 -1.09142314 -1.52512819 -1.62512715]\n",
      " [-1.24598875 -1.5054789  -1.51338325 -1.27286437 -0.93241436]\n",
      " [-1.09188586 -1.32155624 -1.61469807 -1.93009051 -1.26474936]\n",
      " [-1.6079647  -1.3718213  -1.14918594 -0.96354412 -1.38667075]\n",
      " [-1.09889176 -1.8178115  -1.40771902 -1.75970571 -1.92739269]]\n"
     ]
    }
   ],
   "source": [
    "#### 12. Normalize a 5x5 random matrix (★☆☆)\n",
    "# hint: (x -mean)/std\n",
    "\n",
    "matrix_e = np.random.random((5,5))\n",
    "matrix_e = matrix_e-np.mean(matrix_e)/np.std(matrix_e)\n",
    "print(matrix_e)"
   ]
  },
  {
   "cell_type": "code",
   "execution_count": 93,
   "id": "12a0cdd1",
   "metadata": {},
   "outputs": [
    {
     "name": "stdout",
     "output_type": "stream",
     "text": [
      "[0 1 2 4 5 8 9]\n"
     ]
    }
   ],
   "source": [
    "#### 13. How to find common values between two arrays? (★☆☆)\n",
    "# hint: np.intersect1d\n",
    "\n",
    "new_lst = [9, 1, 10, 2, 4], [4, 5, 12, 9, 0], [1, 0, 4, 5, 2], [1, 9, 8, 4, 0], [6, 8, 1, 9, 0]\n",
    "matrix_f = np.array(new_lst)\n",
    "\n",
    "print(np.intersect1d(matrix_d, matrix_f)) # matrix_d is generated in question 11"
   ]
  },
  {
   "cell_type": "code",
   "execution_count": 97,
   "id": "d29e9c94",
   "metadata": {},
   "outputs": [
    {
     "name": "stdout",
     "output_type": "stream",
     "text": [
      "[0.11085002 0.12950345 0.13693532 0.24949379 0.31128474 0.38611452\n",
      " 0.47090035 0.52986821 0.81650084 0.83943124]\n"
     ]
    }
   ],
   "source": [
    "#### 14. Create a random vector of size 10 and sort it (★★☆)\n",
    "# hint: sort\n",
    "\n",
    "vector_d = np.random.random((10))\n",
    "vector_d.sort()\n",
    "print(vector_d)"
   ]
  },
  {
   "cell_type": "code",
   "execution_count": 103,
   "id": "eed9cd7a",
   "metadata": {},
   "outputs": [
    {
     "name": "stdout",
     "output_type": "stream",
     "text": [
      "[0.98708577 0.87681363 0.94499194 0.14934568 0.8503019  0.8141299\n",
      " 0.7350567  0.32040976 0.81450579 0.81422664]\n",
      "[0.         0.87681363 0.94499194 0.14934568 0.8503019  0.8141299\n",
      " 0.7350567  0.32040976 0.81450579 0.81422664]\n"
     ]
    }
   ],
   "source": [
    "#### 15. Create random vector of size 10 and replace the maximum value by 0 (★★☆)\n",
    "# hint: argmax\n",
    "vector_e = np.random.random((10))\n",
    "print(vector_e)\n",
    "vector_e[np.argmax(vector_e)] = 0\n",
    "print(vector_e)"
   ]
  },
  {
   "cell_type": "code",
   "execution_count": 105,
   "id": "d3200d37",
   "metadata": {},
   "outputs": [
    {
     "name": "stdout",
     "output_type": "stream",
     "text": [
      "[[ 9  1 10  2  4]\n",
      " [ 4  5 12  9  0]\n",
      " [ 1  0  4  5  2]\n",
      " [ 1  9  8  4  0]\n",
      " [ 6  8  1  9  0]]\n",
      "[[ 3.8 -4.2  4.8 -3.2 -1.2]\n",
      " [-2.  -1.   6.   3.  -6. ]\n",
      " [-1.4 -2.4  1.6  2.6 -0.4]\n",
      " [-3.4  4.6  3.6 -0.4 -4.4]\n",
      " [ 1.2  3.2 -3.8  4.2 -4.8]]\n"
     ]
    }
   ],
   "source": [
    "#### 16. Subtract the mean of each row of a matrix (★★☆)\n",
    "# hint: mean(axis=,keepdims=)\n",
    "print(matrix_f)\n",
    "\n",
    "matrix_g = matrix_f - matrix_f.mean(axis=1, keepdims=True)\n",
    "print(matrix_g)"
   ]
  },
  {
   "cell_type": "code",
   "execution_count": 17,
   "id": "19c285a0",
   "metadata": {},
   "outputs": [
    {
     "name": "stdout",
     "output_type": "stream",
     "text": [
      "[6357 7608 5419 ... 7693 8603 1122]\n"
     ]
    }
   ],
   "source": [
    "#### 17. How to get the n largest values of an array (★★★)\n",
    "# Z = np.arange(10000)\n",
    "# np.random.shuffle(Z)\n",
    "# n = 5\n",
    "# hint: np.argsort | np.argpartition`\n",
    "\n",
    "Z = np.arange(10000)\n",
    "np.random.shuffle(Z)\n",
    "n = 5\n",
    "\n",
    "Z[np.argsort(Z)[-n:]]\n",
    "print(Z)\n",
    "\n",
    "# To get more information about the function: print(np.argsort.__doc__)"
   ]
  },
  {
   "cell_type": "code",
   "execution_count": 19,
   "id": "7278d3ec",
   "metadata": {},
   "outputs": [
    {
     "name": "stdout",
     "output_type": "stream",
     "text": [
      "[[64 25  1]\n",
      " [36 36  4]\n",
      " [81  0 64]\n",
      " [49 49  3]\n",
      " [ 1  2 64]]\n"
     ]
    }
   ],
   "source": [
    "#### 18. Create a random 5*3 matrix and replace items that are larger than 4 by their squares ( Example:  6 --> 36) \n",
    "# hint: np.where\n",
    "\n",
    "matrix_h = np.random.randint(0, 10, size = (5,3))\n",
    "matrix_h =np.where(matrix_h > 4, matrix_h **2, matrix_h)\n",
    "\n",
    "print(matrix_h)"
   ]
  }
 ],
 "metadata": {
  "kernelspec": {
   "display_name": "Python 3 (ipykernel)",
   "language": "python",
   "name": "python3"
  },
  "language_info": {
   "codemirror_mode": {
    "name": "ipython",
    "version": 3
   },
   "file_extension": ".py",
   "mimetype": "text/x-python",
   "name": "python",
   "nbconvert_exporter": "python",
   "pygments_lexer": "ipython3",
   "version": "3.9.13"
  }
 },
 "nbformat": 4,
 "nbformat_minor": 5
}
